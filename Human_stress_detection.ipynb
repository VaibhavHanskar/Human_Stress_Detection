{
 "cells": [
  {
   "cell_type": "markdown",
   "id": "b0259d6c",
   "metadata": {},
   "source": [
    "# Human Stress Detection through Sleep"
   ]
  },
  {
   "cell_type": "markdown",
   "id": "e3235c40",
   "metadata": {},
   "source": [
    "https://www.kaggle.com/datasets/laavanya/human-stress-detection-in-and-through-sleep?select=SaYoPillow.csv"
   ]
  },
  {
   "cell_type": "code",
   "execution_count": 1,
   "id": "1b881bd5",
   "metadata": {},
   "outputs": [],
   "source": [
    "import pandas as pd"
   ]
  },
  {
   "cell_type": "code",
   "execution_count": 2,
   "id": "cd33ebbf",
   "metadata": {},
   "outputs": [],
   "source": [
    "import numpy as np"
   ]
  },
  {
   "cell_type": "code",
   "execution_count": 3,
   "id": "0453e6f6",
   "metadata": {},
   "outputs": [],
   "source": [
    "from pandas import Series,DataFrame"
   ]
  },
  {
   "cell_type": "code",
   "execution_count": 4,
   "id": "cc28fa33",
   "metadata": {},
   "outputs": [],
   "source": [
    "df = pd.read_csv('SaYoPillow.csv')"
   ]
  },
  {
   "cell_type": "code",
   "execution_count": 5,
   "id": "7b3d2cb7",
   "metadata": {},
   "outputs": [
    {
     "data": {
      "text/html": [
       "<div>\n",
       "<style scoped>\n",
       "    .dataframe tbody tr th:only-of-type {\n",
       "        vertical-align: middle;\n",
       "    }\n",
       "\n",
       "    .dataframe tbody tr th {\n",
       "        vertical-align: top;\n",
       "    }\n",
       "\n",
       "    .dataframe thead th {\n",
       "        text-align: right;\n",
       "    }\n",
       "</style>\n",
       "<table border=\"1\" class=\"dataframe\">\n",
       "  <thead>\n",
       "    <tr style=\"text-align: right;\">\n",
       "      <th></th>\n",
       "      <th>sr</th>\n",
       "      <th>rr</th>\n",
       "      <th>t</th>\n",
       "      <th>lm</th>\n",
       "      <th>bo</th>\n",
       "      <th>rem</th>\n",
       "      <th>sr.1</th>\n",
       "      <th>hr</th>\n",
       "      <th>sl</th>\n",
       "    </tr>\n",
       "  </thead>\n",
       "  <tbody>\n",
       "    <tr>\n",
       "      <th>0</th>\n",
       "      <td>93.80</td>\n",
       "      <td>25.680</td>\n",
       "      <td>91.840</td>\n",
       "      <td>16.600</td>\n",
       "      <td>89.840</td>\n",
       "      <td>99.60</td>\n",
       "      <td>1.840</td>\n",
       "      <td>74.20</td>\n",
       "      <td>3</td>\n",
       "    </tr>\n",
       "    <tr>\n",
       "      <th>1</th>\n",
       "      <td>91.64</td>\n",
       "      <td>25.104</td>\n",
       "      <td>91.552</td>\n",
       "      <td>15.880</td>\n",
       "      <td>89.552</td>\n",
       "      <td>98.88</td>\n",
       "      <td>1.552</td>\n",
       "      <td>72.76</td>\n",
       "      <td>3</td>\n",
       "    </tr>\n",
       "    <tr>\n",
       "      <th>2</th>\n",
       "      <td>60.00</td>\n",
       "      <td>20.000</td>\n",
       "      <td>96.000</td>\n",
       "      <td>10.000</td>\n",
       "      <td>95.000</td>\n",
       "      <td>85.00</td>\n",
       "      <td>7.000</td>\n",
       "      <td>60.00</td>\n",
       "      <td>1</td>\n",
       "    </tr>\n",
       "    <tr>\n",
       "      <th>3</th>\n",
       "      <td>85.76</td>\n",
       "      <td>23.536</td>\n",
       "      <td>90.768</td>\n",
       "      <td>13.920</td>\n",
       "      <td>88.768</td>\n",
       "      <td>96.92</td>\n",
       "      <td>0.768</td>\n",
       "      <td>68.84</td>\n",
       "      <td>3</td>\n",
       "    </tr>\n",
       "    <tr>\n",
       "      <th>4</th>\n",
       "      <td>48.12</td>\n",
       "      <td>17.248</td>\n",
       "      <td>97.872</td>\n",
       "      <td>6.496</td>\n",
       "      <td>96.248</td>\n",
       "      <td>72.48</td>\n",
       "      <td>8.248</td>\n",
       "      <td>53.12</td>\n",
       "      <td>0</td>\n",
       "    </tr>\n",
       "  </tbody>\n",
       "</table>\n",
       "</div>"
      ],
      "text/plain": [
       "      sr      rr       t      lm      bo    rem   sr.1     hr  sl\n",
       "0  93.80  25.680  91.840  16.600  89.840  99.60  1.840  74.20   3\n",
       "1  91.64  25.104  91.552  15.880  89.552  98.88  1.552  72.76   3\n",
       "2  60.00  20.000  96.000  10.000  95.000  85.00  7.000  60.00   1\n",
       "3  85.76  23.536  90.768  13.920  88.768  96.92  0.768  68.84   3\n",
       "4  48.12  17.248  97.872   6.496  96.248  72.48  8.248  53.12   0"
      ]
     },
     "execution_count": 5,
     "metadata": {},
     "output_type": "execute_result"
    }
   ],
   "source": [
    "df.head()"
   ]
  },
  {
   "cell_type": "code",
   "execution_count": 6,
   "id": "2585c27b",
   "metadata": {},
   "outputs": [],
   "source": [
    "# Renmaing Columns\n",
    "\n",
    "df.rename(columns = {'sr':'snooring_rate',\n",
    "           'rr':'respiration_rate',\n",
    "           't':'body_temperature',\n",
    "           'lm':'limb_movement',\n",
    "           'bo':'blood oxygen',\n",
    "           'rem' : 'eye_movement',\n",
    "           'sr.1':'sleeping_hours',\n",
    "           'hr':'heart_rate',\n",
    "           'sl':'stress_level'},inplace = True)"
   ]
  },
  {
   "cell_type": "code",
   "execution_count": 7,
   "id": "4728f3b9",
   "metadata": {},
   "outputs": [
    {
     "data": {
      "text/html": [
       "<div>\n",
       "<style scoped>\n",
       "    .dataframe tbody tr th:only-of-type {\n",
       "        vertical-align: middle;\n",
       "    }\n",
       "\n",
       "    .dataframe tbody tr th {\n",
       "        vertical-align: top;\n",
       "    }\n",
       "\n",
       "    .dataframe thead th {\n",
       "        text-align: right;\n",
       "    }\n",
       "</style>\n",
       "<table border=\"1\" class=\"dataframe\">\n",
       "  <thead>\n",
       "    <tr style=\"text-align: right;\">\n",
       "      <th></th>\n",
       "      <th>snooring_rate</th>\n",
       "      <th>respiration_rate</th>\n",
       "      <th>body_temperature</th>\n",
       "      <th>limb_movement</th>\n",
       "      <th>blood oxygen</th>\n",
       "      <th>eye_movement</th>\n",
       "      <th>sleeping_hours</th>\n",
       "      <th>heart_rate</th>\n",
       "      <th>stress_level</th>\n",
       "    </tr>\n",
       "  </thead>\n",
       "  <tbody>\n",
       "    <tr>\n",
       "      <th>0</th>\n",
       "      <td>93.800</td>\n",
       "      <td>25.680</td>\n",
       "      <td>91.840</td>\n",
       "      <td>16.600</td>\n",
       "      <td>89.840</td>\n",
       "      <td>99.60</td>\n",
       "      <td>1.840</td>\n",
       "      <td>74.20</td>\n",
       "      <td>3</td>\n",
       "    </tr>\n",
       "    <tr>\n",
       "      <th>1</th>\n",
       "      <td>91.640</td>\n",
       "      <td>25.104</td>\n",
       "      <td>91.552</td>\n",
       "      <td>15.880</td>\n",
       "      <td>89.552</td>\n",
       "      <td>98.88</td>\n",
       "      <td>1.552</td>\n",
       "      <td>72.76</td>\n",
       "      <td>3</td>\n",
       "    </tr>\n",
       "    <tr>\n",
       "      <th>2</th>\n",
       "      <td>60.000</td>\n",
       "      <td>20.000</td>\n",
       "      <td>96.000</td>\n",
       "      <td>10.000</td>\n",
       "      <td>95.000</td>\n",
       "      <td>85.00</td>\n",
       "      <td>7.000</td>\n",
       "      <td>60.00</td>\n",
       "      <td>1</td>\n",
       "    </tr>\n",
       "    <tr>\n",
       "      <th>3</th>\n",
       "      <td>85.760</td>\n",
       "      <td>23.536</td>\n",
       "      <td>90.768</td>\n",
       "      <td>13.920</td>\n",
       "      <td>88.768</td>\n",
       "      <td>96.92</td>\n",
       "      <td>0.768</td>\n",
       "      <td>68.84</td>\n",
       "      <td>3</td>\n",
       "    </tr>\n",
       "    <tr>\n",
       "      <th>4</th>\n",
       "      <td>48.120</td>\n",
       "      <td>17.248</td>\n",
       "      <td>97.872</td>\n",
       "      <td>6.496</td>\n",
       "      <td>96.248</td>\n",
       "      <td>72.48</td>\n",
       "      <td>8.248</td>\n",
       "      <td>53.12</td>\n",
       "      <td>0</td>\n",
       "    </tr>\n",
       "    <tr>\n",
       "      <th>...</th>\n",
       "      <td>...</td>\n",
       "      <td>...</td>\n",
       "      <td>...</td>\n",
       "      <td>...</td>\n",
       "      <td>...</td>\n",
       "      <td>...</td>\n",
       "      <td>...</td>\n",
       "      <td>...</td>\n",
       "      <td>...</td>\n",
       "    </tr>\n",
       "    <tr>\n",
       "      <th>625</th>\n",
       "      <td>69.600</td>\n",
       "      <td>20.960</td>\n",
       "      <td>92.960</td>\n",
       "      <td>10.960</td>\n",
       "      <td>90.960</td>\n",
       "      <td>89.80</td>\n",
       "      <td>3.440</td>\n",
       "      <td>62.40</td>\n",
       "      <td>2</td>\n",
       "    </tr>\n",
       "    <tr>\n",
       "      <th>626</th>\n",
       "      <td>48.440</td>\n",
       "      <td>17.376</td>\n",
       "      <td>98.064</td>\n",
       "      <td>6.752</td>\n",
       "      <td>96.376</td>\n",
       "      <td>73.76</td>\n",
       "      <td>8.376</td>\n",
       "      <td>53.44</td>\n",
       "      <td>0</td>\n",
       "    </tr>\n",
       "    <tr>\n",
       "      <th>627</th>\n",
       "      <td>97.504</td>\n",
       "      <td>27.504</td>\n",
       "      <td>86.880</td>\n",
       "      <td>17.752</td>\n",
       "      <td>84.256</td>\n",
       "      <td>101.88</td>\n",
       "      <td>0.000</td>\n",
       "      <td>78.76</td>\n",
       "      <td>4</td>\n",
       "    </tr>\n",
       "    <tr>\n",
       "      <th>628</th>\n",
       "      <td>58.640</td>\n",
       "      <td>19.728</td>\n",
       "      <td>95.728</td>\n",
       "      <td>9.728</td>\n",
       "      <td>94.592</td>\n",
       "      <td>84.32</td>\n",
       "      <td>6.728</td>\n",
       "      <td>59.32</td>\n",
       "      <td>1</td>\n",
       "    </tr>\n",
       "    <tr>\n",
       "      <th>629</th>\n",
       "      <td>73.920</td>\n",
       "      <td>21.392</td>\n",
       "      <td>93.392</td>\n",
       "      <td>11.392</td>\n",
       "      <td>91.392</td>\n",
       "      <td>91.96</td>\n",
       "      <td>4.088</td>\n",
       "      <td>63.48</td>\n",
       "      <td>2</td>\n",
       "    </tr>\n",
       "  </tbody>\n",
       "</table>\n",
       "<p>630 rows × 9 columns</p>\n",
       "</div>"
      ],
      "text/plain": [
       "     snooring_rate  respiration_rate  body_temperature  limb_movement  \\\n",
       "0           93.800            25.680            91.840         16.600   \n",
       "1           91.640            25.104            91.552         15.880   \n",
       "2           60.000            20.000            96.000         10.000   \n",
       "3           85.760            23.536            90.768         13.920   \n",
       "4           48.120            17.248            97.872          6.496   \n",
       "..             ...               ...               ...            ...   \n",
       "625         69.600            20.960            92.960         10.960   \n",
       "626         48.440            17.376            98.064          6.752   \n",
       "627         97.504            27.504            86.880         17.752   \n",
       "628         58.640            19.728            95.728          9.728   \n",
       "629         73.920            21.392            93.392         11.392   \n",
       "\n",
       "     blood oxygen  eye_movement  sleeping_hours  heart_rate  stress_level  \n",
       "0          89.840         99.60           1.840       74.20             3  \n",
       "1          89.552         98.88           1.552       72.76             3  \n",
       "2          95.000         85.00           7.000       60.00             1  \n",
       "3          88.768         96.92           0.768       68.84             3  \n",
       "4          96.248         72.48           8.248       53.12             0  \n",
       "..            ...           ...             ...         ...           ...  \n",
       "625        90.960         89.80           3.440       62.40             2  \n",
       "626        96.376         73.76           8.376       53.44             0  \n",
       "627        84.256        101.88           0.000       78.76             4  \n",
       "628        94.592         84.32           6.728       59.32             1  \n",
       "629        91.392         91.96           4.088       63.48             2  \n",
       "\n",
       "[630 rows x 9 columns]"
      ]
     },
     "execution_count": 7,
     "metadata": {},
     "output_type": "execute_result"
    }
   ],
   "source": [
    "df"
   ]
  },
  {
   "cell_type": "code",
   "execution_count": 8,
   "id": "02b10b7c",
   "metadata": {},
   "outputs": [
    {
     "data": {
      "text/plain": [
       "(630, 9)"
      ]
     },
     "execution_count": 8,
     "metadata": {},
     "output_type": "execute_result"
    }
   ],
   "source": [
    "df.shape   # Daframe contains 630 rows and 9 columns"
   ]
  },
  {
   "cell_type": "code",
   "execution_count": 9,
   "id": "806e3f67",
   "metadata": {},
   "outputs": [
    {
     "data": {
      "text/html": [
       "<div>\n",
       "<style scoped>\n",
       "    .dataframe tbody tr th:only-of-type {\n",
       "        vertical-align: middle;\n",
       "    }\n",
       "\n",
       "    .dataframe tbody tr th {\n",
       "        vertical-align: top;\n",
       "    }\n",
       "\n",
       "    .dataframe thead th {\n",
       "        text-align: right;\n",
       "    }\n",
       "</style>\n",
       "<table border=\"1\" class=\"dataframe\">\n",
       "  <thead>\n",
       "    <tr style=\"text-align: right;\">\n",
       "      <th></th>\n",
       "      <th>snooring_rate</th>\n",
       "      <th>respiration_rate</th>\n",
       "      <th>body_temperature</th>\n",
       "      <th>limb_movement</th>\n",
       "      <th>blood oxygen</th>\n",
       "      <th>eye_movement</th>\n",
       "      <th>sleeping_hours</th>\n",
       "      <th>heart_rate</th>\n",
       "      <th>stress_level</th>\n",
       "    </tr>\n",
       "  </thead>\n",
       "  <tbody>\n",
       "    <tr>\n",
       "      <th>count</th>\n",
       "      <td>630.000000</td>\n",
       "      <td>630.000000</td>\n",
       "      <td>630.00000</td>\n",
       "      <td>630.000000</td>\n",
       "      <td>630.000000</td>\n",
       "      <td>630.000000</td>\n",
       "      <td>630.000000</td>\n",
       "      <td>630.000000</td>\n",
       "      <td>630.000000</td>\n",
       "    </tr>\n",
       "    <tr>\n",
       "      <th>mean</th>\n",
       "      <td>71.600000</td>\n",
       "      <td>21.800000</td>\n",
       "      <td>92.80000</td>\n",
       "      <td>11.700000</td>\n",
       "      <td>90.900000</td>\n",
       "      <td>88.500000</td>\n",
       "      <td>3.700000</td>\n",
       "      <td>64.500000</td>\n",
       "      <td>2.000000</td>\n",
       "    </tr>\n",
       "    <tr>\n",
       "      <th>std</th>\n",
       "      <td>19.372833</td>\n",
       "      <td>3.966111</td>\n",
       "      <td>3.52969</td>\n",
       "      <td>4.299629</td>\n",
       "      <td>3.902483</td>\n",
       "      <td>11.893747</td>\n",
       "      <td>3.054572</td>\n",
       "      <td>9.915277</td>\n",
       "      <td>1.415337</td>\n",
       "    </tr>\n",
       "    <tr>\n",
       "      <th>min</th>\n",
       "      <td>45.000000</td>\n",
       "      <td>16.000000</td>\n",
       "      <td>85.00000</td>\n",
       "      <td>4.000000</td>\n",
       "      <td>82.000000</td>\n",
       "      <td>60.000000</td>\n",
       "      <td>0.000000</td>\n",
       "      <td>50.000000</td>\n",
       "      <td>0.000000</td>\n",
       "    </tr>\n",
       "    <tr>\n",
       "      <th>25%</th>\n",
       "      <td>52.500000</td>\n",
       "      <td>18.500000</td>\n",
       "      <td>90.50000</td>\n",
       "      <td>8.500000</td>\n",
       "      <td>88.500000</td>\n",
       "      <td>81.250000</td>\n",
       "      <td>0.500000</td>\n",
       "      <td>56.250000</td>\n",
       "      <td>1.000000</td>\n",
       "    </tr>\n",
       "    <tr>\n",
       "      <th>50%</th>\n",
       "      <td>70.000000</td>\n",
       "      <td>21.000000</td>\n",
       "      <td>93.00000</td>\n",
       "      <td>11.000000</td>\n",
       "      <td>91.000000</td>\n",
       "      <td>90.000000</td>\n",
       "      <td>3.500000</td>\n",
       "      <td>62.500000</td>\n",
       "      <td>2.000000</td>\n",
       "    </tr>\n",
       "    <tr>\n",
       "      <th>75%</th>\n",
       "      <td>91.250000</td>\n",
       "      <td>25.000000</td>\n",
       "      <td>95.50000</td>\n",
       "      <td>15.750000</td>\n",
       "      <td>94.250000</td>\n",
       "      <td>98.750000</td>\n",
       "      <td>6.500000</td>\n",
       "      <td>72.500000</td>\n",
       "      <td>3.000000</td>\n",
       "    </tr>\n",
       "    <tr>\n",
       "      <th>max</th>\n",
       "      <td>100.000000</td>\n",
       "      <td>30.000000</td>\n",
       "      <td>99.00000</td>\n",
       "      <td>19.000000</td>\n",
       "      <td>97.000000</td>\n",
       "      <td>105.000000</td>\n",
       "      <td>9.000000</td>\n",
       "      <td>85.000000</td>\n",
       "      <td>4.000000</td>\n",
       "    </tr>\n",
       "  </tbody>\n",
       "</table>\n",
       "</div>"
      ],
      "text/plain": [
       "       snooring_rate  respiration_rate  body_temperature  limb_movement  \\\n",
       "count     630.000000        630.000000         630.00000     630.000000   \n",
       "mean       71.600000         21.800000          92.80000      11.700000   \n",
       "std        19.372833          3.966111           3.52969       4.299629   \n",
       "min        45.000000         16.000000          85.00000       4.000000   \n",
       "25%        52.500000         18.500000          90.50000       8.500000   \n",
       "50%        70.000000         21.000000          93.00000      11.000000   \n",
       "75%        91.250000         25.000000          95.50000      15.750000   \n",
       "max       100.000000         30.000000          99.00000      19.000000   \n",
       "\n",
       "       blood oxygen  eye_movement  sleeping_hours  heart_rate  stress_level  \n",
       "count    630.000000    630.000000      630.000000  630.000000    630.000000  \n",
       "mean      90.900000     88.500000        3.700000   64.500000      2.000000  \n",
       "std        3.902483     11.893747        3.054572    9.915277      1.415337  \n",
       "min       82.000000     60.000000        0.000000   50.000000      0.000000  \n",
       "25%       88.500000     81.250000        0.500000   56.250000      1.000000  \n",
       "50%       91.000000     90.000000        3.500000   62.500000      2.000000  \n",
       "75%       94.250000     98.750000        6.500000   72.500000      3.000000  \n",
       "max       97.000000    105.000000        9.000000   85.000000      4.000000  "
      ]
     },
     "execution_count": 9,
     "metadata": {},
     "output_type": "execute_result"
    }
   ],
   "source": [
    "df.describe()"
   ]
  },
  {
   "cell_type": "code",
   "execution_count": 10,
   "id": "83e4ab37",
   "metadata": {},
   "outputs": [
    {
     "name": "stdout",
     "output_type": "stream",
     "text": [
      "<class 'pandas.core.frame.DataFrame'>\n",
      "RangeIndex: 630 entries, 0 to 629\n",
      "Data columns (total 9 columns):\n",
      " #   Column            Non-Null Count  Dtype  \n",
      "---  ------            --------------  -----  \n",
      " 0   snooring_rate     630 non-null    float64\n",
      " 1   respiration_rate  630 non-null    float64\n",
      " 2   body_temperature  630 non-null    float64\n",
      " 3   limb_movement     630 non-null    float64\n",
      " 4   blood oxygen      630 non-null    float64\n",
      " 5   eye_movement      630 non-null    float64\n",
      " 6   sleeping_hours    630 non-null    float64\n",
      " 7   heart_rate        630 non-null    float64\n",
      " 8   stress_level      630 non-null    int64  \n",
      "dtypes: float64(8), int64(1)\n",
      "memory usage: 44.4 KB\n"
     ]
    }
   ],
   "source": [
    "df.info()"
   ]
  },
  {
   "cell_type": "code",
   "execution_count": 11,
   "id": "30fda98b",
   "metadata": {},
   "outputs": [
    {
     "data": {
      "text/plain": [
       "snooring_rate       627\n",
       "respiration_rate    626\n",
       "body_temperature    626\n",
       "limb_movement       626\n",
       "blood oxygen        626\n",
       "eye_movement        626\n",
       "sleeping_hours      501\n",
       "heart_rate          626\n",
       "stress_level          5\n",
       "dtype: int64"
      ]
     },
     "execution_count": 11,
     "metadata": {},
     "output_type": "execute_result"
    }
   ],
   "source": [
    "df.nunique()"
   ]
  },
  {
   "cell_type": "code",
   "execution_count": 12,
   "id": "2478b0c0",
   "metadata": {},
   "outputs": [],
   "source": [
    "import numpy as np"
   ]
  },
  {
   "cell_type": "code",
   "execution_count": 13,
   "id": "b6cf8b3f",
   "metadata": {},
   "outputs": [],
   "source": [
    "import matplotlib.pyplot as plt"
   ]
  },
  {
   "cell_type": "code",
   "execution_count": 14,
   "id": "1d69a0aa",
   "metadata": {},
   "outputs": [
    {
     "data": {
      "text/plain": [
       "Text(0.5, 1.0, 'Snooring_rate')"
      ]
     },
     "execution_count": 14,
     "metadata": {},
     "output_type": "execute_result"
    },
    {
     "data": {
      "image/png": "[encoded data removed]",
      "text/plain": [
       "<Figure size 432x288 with 1 Axes>"
      ]
     },
     "metadata": {
      "needs_background": "light"
     },
     "output_type": "display_data"
    }
   ],
   "source": [
    "plt.hist(df['snooring_rate'],rwidth = 0.5)\n",
    "plt.title('Snooring_rate')\n"
   ]
  },
  {
   "cell_type": "code",
   "execution_count": 15,
   "id": "4f090042",
   "metadata": {},
   "outputs": [
    {
     "data": {
      "text/plain": [
       "Text(0.5, 1.0, 'Respiration_rate')"
      ]
     },
     "execution_count": 15,
     "metadata": {},
     "output_type": "execute_result"
    },
    {
     "data": {
      "image/png": "[encoded data removed]",
      "text/plain": [
       "<Figure size 432x288 with 1 Axes>"
      ]
     },
     "metadata": {
      "needs_background": "light"
     },
     "output_type": "display_data"
    }
   ],
   "source": [
    "plt.hist(df['respiration_rate'],rwidth = 0.5)\n",
    "plt.title('Respiration_rate')"
   ]
  },
  {
   "cell_type": "code",
   "execution_count": 16,
   "id": "322227ea",
   "metadata": {},
   "outputs": [
    {
     "data": {
      "text/plain": [
       "Text(0.5, 1.0, 'Body_temperature')"
      ]
     },
     "execution_count": 16,
     "metadata": {},
     "output_type": "execute_result"
    },
    {
     "data": {
      "image/png": "[encoded data removed]",
      "text/plain": [
       "<Figure size 432x288 with 1 Axes>"
      ]
     },
     "metadata": {
      "needs_background": "light"
     },
     "output_type": "display_data"
    }
   ],
   "source": [
    "plt.hist(df['body_temperature'],rwidth = 0.5)\n",
    "plt.title('Body_temperature')"
   ]
  },
  {
   "cell_type": "code",
   "execution_count": 17,
   "id": "369ae9f8",
   "metadata": {},
   "outputs": [
    {
     "data": {
      "text/plain": [
       "Text(0.5, 1.0, 'Limb_movement')"
      ]
     },
     "execution_count": 17,
     "metadata": {},
     "output_type": "execute_result"
    },
    {
     "data": {
      "image/png": "[encoded data removed]",
      "text/plain": [
       "<Figure size 432x288 with 1 Axes>"
      ]
     },
     "metadata": {
      "needs_background": "light"
     },
     "output_type": "display_data"
    }
   ],
   "source": [
    "plt.hist(df['limb_movement'],rwidth = 0.5)\n",
    "plt.title('Limb_movement')"
   ]
  },
  {
   "cell_type": "code",
   "execution_count": 18,
   "id": "264a216e",
   "metadata": {},
   "outputs": [
    {
     "data": {
      "text/plain": [
       "Text(0.5, 1.0, 'Blood oxygen')"
      ]
     },
     "execution_count": 18,
     "metadata": {},
     "output_type": "execute_result"
    },
    {
     "data": {
      "image/png": "[encoded data removed]",
      "text/plain": [
       "<Figure size 432x288 with 1 Axes>"
      ]
     },
     "metadata": {
      "needs_background": "light"
     },
     "output_type": "display_data"
    }
   ],
   "source": [
    "plt.hist(df['blood oxygen'],rwidth = 0.5)\n",
    "plt.title('Blood oxygen')"
   ]
  },
  {
   "cell_type": "code",
   "execution_count": 19,
   "id": "ee475fc4",
   "metadata": {},
   "outputs": [
    {
     "data": {
      "text/plain": [
       "Text(0.5, 1.0, 'Eye_movement')"
      ]
     },
     "execution_count": 19,
     "metadata": {},
     "output_type": "execute_result"
    },
    {
     "data": {
      "image/png": "[encoded data removed]",
      "text/plain": [
       "<Figure size 432x288 with 1 Axes>"
      ]
     },
     "metadata": {
      "needs_background": "light"
     },
     "output_type": "display_data"
    }
   ],
   "source": [
    "plt.hist(df['eye_movement'],rwidth = 0.5)\n",
    "plt.title('Eye_movement')"
   ]
  },
  {
   "cell_type": "code",
   "execution_count": 20,
   "id": "8c778f04",
   "metadata": {},
   "outputs": [
    {
     "data": {
      "text/plain": [
       "Text(0.5, 1.0, 'Sleeping Hours')"
      ]
     },
     "execution_count": 20,
     "metadata": {},
     "output_type": "execute_result"
    },
    {
     "data": {
      "image/png": "[encoded data removed]",
      "text/plain": [
       "<Figure size 432x288 with 1 Axes>"
      ]
     },
     "metadata": {
      "needs_background": "light"
     },
     "output_type": "display_data"
    }
   ],
   "source": [
    "plt.hist(df['sleeping_hours'],rwidth = 0.5)\n",
    "plt.title('Sleeping Hours')"
   ]
  },
  {
   "cell_type": "code",
   "execution_count": 21,
   "id": "dba6538d",
   "metadata": {},
   "outputs": [
    {
     "data": {
      "text/plain": [
       "Text(0.5, 1.0, 'Heart Rate')"
      ]
     },
     "execution_count": 21,
     "metadata": {},
     "output_type": "execute_result"
    },
    {
     "data": {
      "image/png": "[encoded data removed]",
      "text/plain": [
       "<Figure size 432x288 with 1 Axes>"
      ]
     },
     "metadata": {
      "needs_background": "light"
     },
     "output_type": "display_data"
    }
   ],
   "source": [
    "plt.hist(df['heart_rate'],rwidth = 0.5)\n",
    "plt.title('Heart Rate')"
   ]
  },
  {
   "cell_type": "code",
   "execution_count": null,
   "id": "36fe6929",
   "metadata": {},
   "outputs": [],
   "source": []
  },
  {
   "cell_type": "code",
   "execution_count": 22,
   "id": "5651a743",
   "metadata": {},
   "outputs": [],
   "source": [
    "# df['snooring_rate'] = np.log(df['snooring_rate'])"
   ]
  },
  {
   "cell_type": "code",
   "execution_count": 23,
   "id": "2f6e2fe3",
   "metadata": {},
   "outputs": [],
   "source": [
    "# df['respiration_rate'] = np.log(df['respiration_rate'])"
   ]
  },
  {
   "cell_type": "code",
   "execution_count": 24,
   "id": "91611e38",
   "metadata": {},
   "outputs": [],
   "source": [
    "# df['body_temperature'] = np.log(df['body_temperature'])"
   ]
  },
  {
   "cell_type": "code",
   "execution_count": 25,
   "id": "6c708077",
   "metadata": {},
   "outputs": [],
   "source": [
    "# df['limb_movement'] = np.log(df['limb_movement'])"
   ]
  },
  {
   "cell_type": "code",
   "execution_count": 26,
   "id": "81684080",
   "metadata": {},
   "outputs": [],
   "source": [
    "# df['blood oxygen'] = np.log(df['blood oxygen'])"
   ]
  },
  {
   "cell_type": "code",
   "execution_count": 27,
   "id": "24af0778",
   "metadata": {},
   "outputs": [],
   "source": [
    "# df['eye_movement'] = np.log(df['eye_movement'])"
   ]
  },
  {
   "cell_type": "code",
   "execution_count": 28,
   "id": "20b2916d",
   "metadata": {},
   "outputs": [],
   "source": [
    "# df['sleeping_hours'] = np.log(df['sleeping_hours'])"
   ]
  },
  {
   "cell_type": "code",
   "execution_count": 29,
   "id": "32b77818",
   "metadata": {},
   "outputs": [],
   "source": [
    "# df['heart_rate'] = np.log(df['heart_rate'])"
   ]
  },
  {
   "cell_type": "code",
   "execution_count": 30,
   "id": "5e8a35b3",
   "metadata": {},
   "outputs": [
    {
     "data": {
      "text/plain": [
       "Text(0.5, 1.0, 'Stress according to sleeping hours')"
      ]
     },
     "execution_count": 30,
     "metadata": {},
     "output_type": "execute_result"
    },
    {
     "data": {
      "image/png": "[encoded data removed]",
      "text/plain": [
       "<Figure size 432x288 with 1 Axes>"
      ]
     },
     "metadata": {
      "needs_background": "light"
     },
     "output_type": "display_data"
    }
   ],
   "source": [
    "plt.bar(df['stress_level'],df['sleeping_hours'])\n",
    "plt.ylim(ymin = 0, ymax = 10)\n",
    "plt.xlabel('Stress_level')\n",
    "plt.ylabel('Sleep time (Hours)')\n",
    "plt.title('Stress according to sleeping hours')"
   ]
  },
  {
   "cell_type": "code",
   "execution_count": 31,
   "id": "b329edcc",
   "metadata": {},
   "outputs": [
    {
     "data": {
      "text/plain": [
       "Text(0.5, 1.0, 'Stress according to Heart Rate')"
      ]
     },
     "execution_count": 31,
     "metadata": {},
     "output_type": "execute_result"
    },
    {
     "data": {
      "image/png": "[encoded data removed]",
      "text/plain": [
       "<Figure size 432x288 with 1 Axes>"
      ]
     },
     "metadata": {
      "needs_background": "light"
     },
     "output_type": "display_data"
    }
   ],
   "source": [
    "plt.bar(df['stress_level'],df['heart_rate'])\n",
    "plt.ylim(ymin = 0, ymax = 100)\n",
    "plt.xlabel('Stress_level')\n",
    "plt.ylabel('Heart Rate')\n",
    "plt.title('Stress according to Heart Rate')"
   ]
  },
  {
   "cell_type": "code",
   "execution_count": 32,
   "id": "fa5d937a",
   "metadata": {},
   "outputs": [
    {
     "data": {
      "text/plain": [
       "Text(0.5, 1.0, 'Stress according to EYE Movement')"
      ]
     },
     "execution_count": 32,
     "metadata": {},
     "output_type": "execute_result"
    },
    {
     "data": {
      "image/png": "[encoded data removed]",
      "text/plain": [
       "<Figure size 432x288 with 1 Axes>"
      ]
     },
     "metadata": {
      "needs_background": "light"
     },
     "output_type": "display_data"
    }
   ],
   "source": [
    "plt.bar(df['stress_level'],df['eye_movement'])\n",
    "plt.ylim(ymin = 0, ymax = 120)\n",
    "plt.xlabel('Stress_level')\n",
    "plt.ylabel('EYE Movement')\n",
    "plt.title('Stress according to EYE Movement')"
   ]
  },
  {
   "cell_type": "code",
   "execution_count": 33,
   "id": "65ccd666",
   "metadata": {},
   "outputs": [
    {
     "data": {
      "text/plain": [
       "Text(0.5, 1.0, 'Stress according to blood oxygen')"
      ]
     },
     "execution_count": 33,
     "metadata": {},
     "output_type": "execute_result"
    },
    {
     "data": {
      "image/png": "[encoded data removed]",
      "text/plain": [
       "<Figure size 432x288 with 1 Axes>"
      ]
     },
     "metadata": {
      "needs_background": "light"
     },
     "output_type": "display_data"
    }
   ],
   "source": [
    "plt.bar(df['stress_level'],df['blood oxygen'])\n",
    "plt.ylim(ymin = 20, ymax = 120)\n",
    "plt.xlabel('Stress_level')\n",
    "plt.ylabel('Blood oxygen')\n",
    "plt.title('Stress according to blood oxygen')"
   ]
  },
  {
   "cell_type": "code",
   "execution_count": 34,
   "id": "b1a7fcb8",
   "metadata": {},
   "outputs": [
    {
     "data": {
      "text/plain": [
       "Text(0.5, 1.0, 'Stress according to limb_movement')"
      ]
     },
     "execution_count": 34,
     "metadata": {},
     "output_type": "execute_result"
    },
    {
     "data": {
      "image/png": "[encoded data removed]",
      "text/plain": [
       "<Figure size 432x288 with 1 Axes>"
      ]
     },
     "metadata": {
      "needs_background": "light"
     },
     "output_type": "display_data"
    }
   ],
   "source": [
    "plt.bar(df['stress_level'],df['limb_movement'])\n",
    "plt.ylim(ymin = 0, ymax = 20)\n",
    "plt.xlabel('Stress_level')\n",
    "plt.ylabel('Limb_movement')\n",
    "plt.title('Stress according to limb_movement')"
   ]
  },
  {
   "cell_type": "code",
   "execution_count": 35,
   "id": "04c78c5f",
   "metadata": {},
   "outputs": [
    {
     "data": {
      "text/plain": [
       "Text(0.5, 1.0, 'Stress according to body_temperature')"
      ]
     },
     "execution_count": 35,
     "metadata": {},
     "output_type": "execute_result"
    },
    {
     "data": {
      "image/png": "[encoded data removed]",
      "text/plain": [
       "<Figure size 432x288 with 1 Axes>"
      ]
     },
     "metadata": {
      "needs_background": "light"
     },
     "output_type": "display_data"
    }
   ],
   "source": [
    "plt.bar(df['stress_level'],df['body_temperature'])\n",
    "plt.ylim(ymin = 80, ymax = 105)\n",
    "plt.xlabel('Stress_level')\n",
    "plt.ylabel('Body_temperature')\n",
    "plt.title('Stress according to body_temperature')"
   ]
  },
  {
   "cell_type": "code",
   "execution_count": 36,
   "id": "62cfd127",
   "metadata": {},
   "outputs": [
    {
     "data": {
      "text/plain": [
       "Text(0.5, 1.0, 'Stress according to respiration_rate')"
      ]
     },
     "execution_count": 36,
     "metadata": {},
     "output_type": "execute_result"
    },
    {
     "data": {
      "image/png": "[encoded data removed]",
      "text/plain": [
       "<Figure size 432x288 with 1 Axes>"
      ]
     },
     "metadata": {
      "needs_background": "light"
     },
     "output_type": "display_data"
    }
   ],
   "source": [
    "plt.bar(df['stress_level'],df['respiration_rate'])\n",
    "plt.ylim(ymin = 0, ymax = 35)\n",
    "plt.xlabel('Stress_level')\n",
    "plt.ylabel('respiration_rate')\n",
    "plt.title('Stress according to respiration_rate')"
   ]
  },
  {
   "cell_type": "code",
   "execution_count": 37,
   "id": "2b9f2ba7",
   "metadata": {},
   "outputs": [
    {
     "data": {
      "text/plain": [
       "Text(0.5, 1.0, 'Stress according to snooring_rate')"
      ]
     },
     "execution_count": 37,
     "metadata": {},
     "output_type": "execute_result"
    },
    {
     "data": {
      "image/png": "[encoded data removed]",
      "text/plain": [
       "<Figure size 432x288 with 1 Axes>"
      ]
     },
     "metadata": {
      "needs_background": "light"
     },
     "output_type": "display_data"
    }
   ],
   "source": [
    "plt.bar(df['stress_level'],df['snooring_rate'])\n",
    "plt.ylim(ymin = 0, ymax = 120)\n",
    "plt.xlabel('Stress_level')\n",
    "plt.ylabel('snooring_rate')\n",
    "plt.title('Stress according to snooring_rate')\n"
   ]
  },
  {
   "cell_type": "code",
   "execution_count": 80,
   "id": "dfa9f163",
   "metadata": {},
   "outputs": [],
   "source": [
    "x  =  df[['sleeping_hours','heart_rate','eye_movement','limb_movement','body_temperature','respiration_rate']].values"
   ]
  },
  {
   "cell_type": "code",
   "execution_count": 81,
   "id": "88ceda65",
   "metadata": {},
   "outputs": [],
   "source": [
    "y = df['stress_level'].values"
   ]
  },
  {
   "cell_type": "code",
   "execution_count": 82,
   "id": "1807475d",
   "metadata": {},
   "outputs": [],
   "source": [
    "from sklearn.model_selection import train_test_split"
   ]
  },
  {
   "cell_type": "code",
   "execution_count": 83,
   "id": "9d5c3531",
   "metadata": {},
   "outputs": [],
   "source": [
    "xtrain,xtest,ytrain,ytest = train_test_split(x,y,test_size = 0.3,random_state = 42)"
   ]
  },
  {
   "cell_type": "code",
   "execution_count": 84,
   "id": "ff9792a3",
   "metadata": {},
   "outputs": [],
   "source": [
    "xtrain = xtrain.astype(float)"
   ]
  },
  {
   "cell_type": "code",
   "execution_count": 85,
   "id": "81438224",
   "metadata": {},
   "outputs": [],
   "source": [
    "xtest = xtest.astype(float)"
   ]
  },
  {
   "cell_type": "markdown",
   "id": "13267250",
   "metadata": {},
   "source": [
    "# KNN"
   ]
  },
  {
   "cell_type": "code",
   "execution_count": 44,
   "id": "d05788e3",
   "metadata": {},
   "outputs": [],
   "source": [
    "from sklearn.neighbors import KNeighborsClassifier"
   ]
  },
  {
   "cell_type": "code",
   "execution_count": 45,
   "id": "1c92854f",
   "metadata": {},
   "outputs": [],
   "source": [
    "regression = KNeighborsClassifier(n_neighbors = 10)"
   ]
  },
  {
   "cell_type": "code",
   "execution_count": 46,
   "id": "82a2c006",
   "metadata": {},
   "outputs": [
    {
     "data": {
      "text/plain": [
       "KNeighborsClassifier(n_neighbors=10)"
      ]
     },
     "execution_count": 46,
     "metadata": {},
     "output_type": "execute_result"
    }
   ],
   "source": [
    "regression.fit(xtrain,ytrain)"
   ]
  },
  {
   "cell_type": "code",
   "execution_count": 47,
   "id": "6a809329",
   "metadata": {},
   "outputs": [],
   "source": [
    "ypred = regression.predict(xtest)"
   ]
  },
  {
   "cell_type": "code",
   "execution_count": 48,
   "id": "7da4d3c5",
   "metadata": {},
   "outputs": [
    {
     "data": {
      "text/plain": [
       "array([0, 3, 2, 0, 3, 2, 3, 1, 0, 0, 2, 4, 2, 2, 1, 4, 1, 4, 1, 2, 0, 0,\n",
       "       4, 0, 0, 2, 4, 0, 2, 2, 2, 0, 2, 2, 4, 0, 3, 2, 3, 3, 4, 4, 1, 0,\n",
       "       4, 1, 1, 3, 3, 3, 1, 3, 2, 3, 0, 1, 0, 1, 3, 0, 3, 3, 0, 2, 0, 1,\n",
       "       4, 2, 3, 0, 2, 3, 1, 4, 3, 4, 3, 1, 2, 3, 3, 4, 3, 4, 1, 4, 2, 2,\n",
       "       1, 3, 4, 1, 2, 4, 4, 2, 4, 4, 2, 4, 4, 0, 1, 2, 1, 1, 1, 1, 3, 1,\n",
       "       2, 4, 1, 3, 0, 0, 1, 0, 4, 0, 2, 3, 2, 2, 4, 3, 0, 0, 1, 2, 1, 0,\n",
       "       3, 0, 2, 0, 0, 0, 2, 1, 2, 4, 2, 0, 4, 0, 1, 1, 0, 1, 3, 0, 4, 3,\n",
       "       3, 4, 3, 1, 3, 2, 0, 0, 2, 2, 4, 2, 4, 1, 2, 1, 0, 3, 4, 2, 1, 0,\n",
       "       4, 2, 0, 3, 3, 1, 4, 4, 2, 3, 4, 1, 3], dtype=int64)"
      ]
     },
     "execution_count": 48,
     "metadata": {},
     "output_type": "execute_result"
    }
   ],
   "source": [
    "ypred"
   ]
  },
  {
   "cell_type": "code",
   "execution_count": 49,
   "id": "d76f9eea",
   "metadata": {},
   "outputs": [
    {
     "data": {
      "text/plain": [
       "array([[39,  0,  0,  0,  0],\n",
       "       [ 0, 36,  0,  0,  0],\n",
       "       [ 0,  0, 41,  0,  0],\n",
       "       [ 0,  0,  0, 37,  0],\n",
       "       [ 0,  0,  0,  0, 36]], dtype=int64)"
      ]
     },
     "execution_count": 49,
     "metadata": {},
     "output_type": "execute_result"
    }
   ],
   "source": [
    "from sklearn.metrics import confusion_matrix\n",
    "cm  = confusion_matrix(ytest,ypred)\n",
    "cm"
   ]
  },
  {
   "cell_type": "code",
   "execution_count": 50,
   "id": "29a726cf",
   "metadata": {},
   "outputs": [
    {
     "data": {
      "text/plain": [
       "<AxesSubplot:>"
      ]
     },
     "execution_count": 50,
     "metadata": {},
     "output_type": "execute_result"
    },
    {
     "data": {
      "image/png": "[encoded data removed]",
      "text/plain": [
       "<Figure size 432x288 with 2 Axes>"
      ]
     },
     "metadata": {
      "needs_background": "light"
     },
     "output_type": "display_data"
    }
   ],
   "source": [
    "import seaborn as sns\n",
    "sns.heatmap(cm,annot = True)"
   ]
  },
  {
   "cell_type": "code",
   "execution_count": 51,
   "id": "579f0795",
   "metadata": {},
   "outputs": [
    {
     "data": {
      "text/plain": [
       "100.0"
      ]
     },
     "execution_count": 51,
     "metadata": {},
     "output_type": "execute_result"
    }
   ],
   "source": [
    "from sklearn.metrics import accuracy_score\n",
    "ac =  accuracy_score(ytest,ypred)\n",
    "ac*100"
   ]
  },
  {
   "cell_type": "code",
   "execution_count": 52,
   "id": "4506bd69",
   "metadata": {},
   "outputs": [
    {
     "name": "stdout",
     "output_type": "stream",
     "text": [
      "1.0\n"
     ]
    }
   ],
   "source": [
    "from sklearn import metrics\n",
    "k_range = range(1,40)\n",
    "score = []\n",
    "# num = []\n",
    "for k in (k_range):\n",
    "    knn = KNeighborsClassifier(n_neighbors = k)\n",
    "    knn.fit(xtrain,ytrain)\n",
    "    y_pred = knn.predict(xtest)\n",
    "    score.append(metrics.accuracy_score(y_pred,ytest))\n",
    "print(np.array(score).max())\n"
   ]
  },
  {
   "cell_type": "code",
   "execution_count": 53,
   "id": "bb420847",
   "metadata": {},
   "outputs": [
    {
     "data": {
      "image/png": "[encoded data removed]",
      "text/plain": [
       "<Figure size 432x288 with 1 Axes>"
      ]
     },
     "metadata": {
      "needs_background": "light"
     },
     "output_type": "display_data"
    }
   ],
   "source": [
    "# To check the value of n_neighbors which has given highest accuracy\n",
    "plt.plot(k_range,score)\n",
    "plt.xlabel('Value od k is KNN')\n",
    "plt.ylabel('Accuracy of test data')\n",
    "plt.show()"
   ]
  },
  {
   "cell_type": "markdown",
   "id": "082df478",
   "metadata": {},
   "source": [
    "# SVM"
   ]
  },
  {
   "cell_type": "code",
   "execution_count": 54,
   "id": "f067c766",
   "metadata": {},
   "outputs": [],
   "source": [
    "from sklearn.svm import SVC"
   ]
  },
  {
   "cell_type": "code",
   "execution_count": 55,
   "id": "0f620a87",
   "metadata": {},
   "outputs": [],
   "source": [
    "classifier = SVC(kernel = 'rbf',random_state = 0)"
   ]
  },
  {
   "cell_type": "code",
   "execution_count": 56,
   "id": "74fb0351",
   "metadata": {},
   "outputs": [
    {
     "data": {
      "text/plain": [
       "SVC(random_state=0)"
      ]
     },
     "execution_count": 56,
     "metadata": {},
     "output_type": "execute_result"
    }
   ],
   "source": [
    "classifier.fit(xtrain,ytrain)"
   ]
  },
  {
   "cell_type": "code",
   "execution_count": 57,
   "id": "98836c5a",
   "metadata": {},
   "outputs": [],
   "source": [
    "ypred = classifier.predict(xtest)"
   ]
  },
  {
   "cell_type": "code",
   "execution_count": 58,
   "id": "b4229fe0",
   "metadata": {},
   "outputs": [
    {
     "data": {
      "text/plain": [
       "array([0, 3, 2, 0, 3, 2, 3, 1, 0, 0, 2, 4, 2, 2, 1, 4, 1, 4, 1, 2, 0, 0,\n",
       "       4, 0, 1, 2, 4, 0, 2, 2, 2, 0, 2, 2, 4, 0, 3, 2, 3, 3, 4, 4, 1, 0,\n",
       "       4, 1, 1, 3, 3, 3, 1, 3, 2, 3, 0, 1, 0, 1, 3, 0, 3, 3, 0, 2, 1, 1,\n",
       "       4, 2, 3, 1, 2, 3, 1, 4, 3, 4, 3, 1, 2, 3, 3, 4, 3, 4, 1, 4, 2, 2,\n",
       "       1, 3, 4, 1, 2, 4, 4, 2, 4, 4, 2, 4, 4, 0, 1, 2, 1, 1, 1, 1, 3, 1,\n",
       "       2, 4, 1, 3, 0, 1, 1, 0, 4, 0, 2, 3, 2, 2, 4, 3, 0, 0, 1, 2, 1, 0,\n",
       "       3, 1, 2, 0, 0, 0, 2, 1, 2, 4, 2, 0, 4, 1, 1, 1, 0, 1, 3, 0, 4, 3,\n",
       "       3, 4, 3, 1, 3, 2, 0, 0, 2, 2, 4, 2, 4, 1, 2, 1, 1, 3, 4, 2, 1, 1,\n",
       "       4, 2, 0, 3, 3, 1, 4, 4, 2, 3, 4, 1, 3], dtype=int64)"
      ]
     },
     "execution_count": 58,
     "metadata": {},
     "output_type": "execute_result"
    }
   ],
   "source": [
    "ypred"
   ]
  },
  {
   "cell_type": "code",
   "execution_count": 59,
   "id": "f52586f2",
   "metadata": {},
   "outputs": [
    {
     "data": {
      "text/plain": [
       "array([[31,  8,  0,  0,  0],\n",
       "       [ 0, 36,  0,  0,  0],\n",
       "       [ 0,  0, 41,  0,  0],\n",
       "       [ 0,  0,  0, 37,  0],\n",
       "       [ 0,  0,  0,  0, 36]], dtype=int64)"
      ]
     },
     "execution_count": 59,
     "metadata": {},
     "output_type": "execute_result"
    }
   ],
   "source": [
    "from sklearn.metrics import confusion_matrix\n",
    "cm  = confusion_matrix(ytest,ypred)\n",
    "cm"
   ]
  },
  {
   "cell_type": "code",
   "execution_count": 60,
   "id": "8ccde376",
   "metadata": {},
   "outputs": [
    {
     "data": {
      "text/plain": [
       "<AxesSubplot:>"
      ]
     },
     "execution_count": 60,
     "metadata": {},
     "output_type": "execute_result"
    },
    {
     "data": {
      "image/png": "[encoded data removed]",
      "text/plain": [
       "<Figure size 432x288 with 2 Axes>"
      ]
     },
     "metadata": {
      "needs_background": "light"
     },
     "output_type": "display_data"
    }
   ],
   "source": [
    "import seaborn as sns\n",
    "sns.heatmap(cm,annot = True)"
   ]
  },
  {
   "cell_type": "code",
   "execution_count": 61,
   "id": "1859ac23",
   "metadata": {},
   "outputs": [
    {
     "data": {
      "text/plain": [
       "95.76719576719577"
      ]
     },
     "execution_count": 61,
     "metadata": {},
     "output_type": "execute_result"
    }
   ],
   "source": [
    "from sklearn.metrics import accuracy_score\n",
    "ac = accuracy_score(ytest,ypred)\n",
    "ac * 100"
   ]
  },
  {
   "cell_type": "markdown",
   "id": "093298cf",
   "metadata": {},
   "source": [
    "# Decision Tree"
   ]
  },
  {
   "cell_type": "code",
   "execution_count": 62,
   "id": "903e5906",
   "metadata": {},
   "outputs": [],
   "source": [
    "from sklearn.tree import DecisionTreeClassifier"
   ]
  },
  {
   "cell_type": "code",
   "execution_count": 63,
   "id": "bafc9650",
   "metadata": {},
   "outputs": [],
   "source": [
    "classifier =  DecisionTreeClassifier(criterion = 'entropy')"
   ]
  },
  {
   "cell_type": "code",
   "execution_count": 64,
   "id": "6b28a886",
   "metadata": {},
   "outputs": [
    {
     "data": {
      "text/plain": [
       "DecisionTreeClassifier(criterion='entropy')"
      ]
     },
     "execution_count": 64,
     "metadata": {},
     "output_type": "execute_result"
    }
   ],
   "source": [
    "classifier.fit(xtrain,ytrain)"
   ]
  },
  {
   "cell_type": "code",
   "execution_count": 65,
   "id": "e7e7c558",
   "metadata": {},
   "outputs": [],
   "source": [
    "ypred = classifier.predict(xtest)"
   ]
  },
  {
   "cell_type": "code",
   "execution_count": 66,
   "id": "5e8ead15",
   "metadata": {},
   "outputs": [
    {
     "data": {
      "text/plain": [
       "array([0, 3, 2, 0, 3, 2, 3, 1, 0, 0, 2, 4, 2, 2, 1, 4, 0, 4, 1, 2, 0, 0,\n",
       "       4, 0, 0, 2, 4, 0, 2, 2, 2, 0, 2, 2, 4, 0, 3, 2, 3, 3, 4, 4, 1, 0,\n",
       "       4, 1, 1, 3, 3, 3, 1, 3, 2, 3, 0, 1, 0, 1, 3, 0, 3, 3, 0, 2, 0, 1,\n",
       "       4, 2, 3, 0, 2, 3, 1, 4, 3, 4, 3, 1, 2, 3, 3, 4, 3, 4, 1, 4, 2, 2,\n",
       "       1, 3, 4, 1, 2, 4, 4, 2, 4, 4, 2, 4, 4, 0, 1, 2, 1, 1, 1, 1, 3, 1,\n",
       "       2, 4, 1, 3, 0, 0, 1, 0, 4, 0, 2, 3, 2, 2, 4, 3, 0, 0, 1, 2, 1, 0,\n",
       "       3, 0, 2, 0, 0, 0, 2, 1, 2, 4, 2, 0, 4, 0, 1, 1, 0, 1, 3, 0, 4, 3,\n",
       "       3, 3, 3, 1, 3, 2, 0, 0, 2, 2, 4, 2, 4, 1, 3, 1, 0, 3, 4, 2, 1, 0,\n",
       "       4, 2, 0, 3, 3, 1, 4, 4, 2, 3, 4, 1, 3], dtype=int64)"
      ]
     },
     "execution_count": 66,
     "metadata": {},
     "output_type": "execute_result"
    }
   ],
   "source": [
    "ypred"
   ]
  },
  {
   "cell_type": "code",
   "execution_count": 67,
   "id": "db1b3c0f",
   "metadata": {},
   "outputs": [
    {
     "data": {
      "text/plain": [
       "array([[39,  0,  0,  0,  0],\n",
       "       [ 1, 35,  0,  0,  0],\n",
       "       [ 0,  0, 40,  1,  0],\n",
       "       [ 0,  0,  0, 37,  0],\n",
       "       [ 0,  0,  0,  1, 35]], dtype=int64)"
      ]
     },
     "execution_count": 67,
     "metadata": {},
     "output_type": "execute_result"
    }
   ],
   "source": [
    "from sklearn.metrics import confusion_matrix\n",
    "cm  = confusion_matrix(ytest,ypred)\n",
    "cm"
   ]
  },
  {
   "cell_type": "code",
   "execution_count": 68,
   "id": "27a48c9c",
   "metadata": {},
   "outputs": [
    {
     "data": {
      "text/plain": [
       "<AxesSubplot:>"
      ]
     },
     "execution_count": 68,
     "metadata": {},
     "output_type": "execute_result"
    },
    {
     "data": {
      "image/png": "[encoded data removed]",
      "text/plain": [
       "<Figure size 432x288 with 2 Axes>"
      ]
     },
     "metadata": {
      "needs_background": "light"
     },
     "output_type": "display_data"
    }
   ],
   "source": [
    "import seaborn as sns\n",
    "sns.heatmap(cm,annot = True)"
   ]
  },
  {
   "cell_type": "code",
   "execution_count": 69,
   "id": "d5f6015b",
   "metadata": {},
   "outputs": [
    {
     "data": {
      "text/plain": [
       "98.4126984126984"
      ]
     },
     "execution_count": 69,
     "metadata": {},
     "output_type": "execute_result"
    }
   ],
   "source": [
    "from sklearn.metrics import accuracy_score\n",
    "ac =  accuracy_score(ytest,ypred)\n",
    "ac*100"
   ]
  },
  {
   "cell_type": "markdown",
   "id": "fa35d881",
   "metadata": {},
   "source": [
    "# Random Forest"
   ]
  },
  {
   "cell_type": "code",
   "execution_count": 86,
   "id": "528c25c1",
   "metadata": {},
   "outputs": [],
   "source": [
    "from sklearn.ensemble import RandomForestClassifier"
   ]
  },
  {
   "cell_type": "code",
   "execution_count": 87,
   "id": "c8b61ba0",
   "metadata": {},
   "outputs": [],
   "source": [
    "classifier = RandomForestClassifier(n_estimators = 10, criterion = 'gini')"
   ]
  },
  {
   "cell_type": "code",
   "execution_count": 88,
   "id": "ebcafc32",
   "metadata": {},
   "outputs": [
    {
     "data": {
      "text/plain": [
       "RandomForestClassifier(n_estimators=10)"
      ]
     },
     "execution_count": 88,
     "metadata": {},
     "output_type": "execute_result"
    }
   ],
   "source": [
    "classifier.fit(xtrain,ytrain)"
   ]
  },
  {
   "cell_type": "code",
   "execution_count": 89,
   "id": "9cb61797",
   "metadata": {},
   "outputs": [],
   "source": [
    "ypred = classifier.predict(xtest)"
   ]
  },
  {
   "cell_type": "code",
   "execution_count": 90,
   "id": "aa3cf248",
   "metadata": {},
   "outputs": [
    {
     "data": {
      "text/plain": [
       "array([0, 3, 2, 0, 3, 2, 3, 1, 0, 0, 2, 4, 2, 2, 1, 4, 2, 4, 1, 2, 0, 0,\n",
       "       4, 0, 0, 2, 4, 0, 2, 2, 2, 0, 2, 2, 4, 0, 3, 2, 3, 3, 4, 4, 1, 0,\n",
       "       4, 1, 1, 3, 3, 3, 1, 3, 2, 3, 0, 1, 0, 1, 3, 0, 3, 3, 0, 2, 0, 1,\n",
       "       4, 2, 3, 0, 2, 3, 1, 4, 3, 4, 3, 1, 2, 3, 3, 4, 3, 4, 1, 4, 2, 2,\n",
       "       1, 3, 4, 1, 2, 4, 4, 2, 4, 4, 2, 4, 4, 0, 1, 2, 1, 1, 1, 1, 3, 1,\n",
       "       2, 4, 1, 3, 0, 0, 1, 0, 4, 0, 2, 3, 2, 2, 4, 3, 0, 0, 1, 2, 1, 0,\n",
       "       3, 0, 2, 0, 0, 0, 2, 1, 2, 4, 2, 0, 4, 0, 1, 1, 0, 1, 3, 0, 4, 3,\n",
       "       3, 3, 3, 1, 3, 2, 0, 0, 2, 2, 4, 2, 4, 1, 2, 1, 0, 3, 4, 2, 1, 0,\n",
       "       4, 2, 0, 3, 3, 1, 4, 4, 2, 3, 4, 1, 3], dtype=int64)"
      ]
     },
     "execution_count": 90,
     "metadata": {},
     "output_type": "execute_result"
    }
   ],
   "source": [
    "ypred"
   ]
  },
  {
   "cell_type": "code",
   "execution_count": 91,
   "id": "db4e4fed",
   "metadata": {},
   "outputs": [
    {
     "data": {
      "text/plain": [
       "array([[39,  0,  0,  0,  0],\n",
       "       [ 0, 35,  1,  0,  0],\n",
       "       [ 0,  0, 41,  0,  0],\n",
       "       [ 0,  0,  0, 37,  0],\n",
       "       [ 0,  0,  0,  1, 35]], dtype=int64)"
      ]
     },
     "execution_count": 91,
     "metadata": {},
     "output_type": "execute_result"
    }
   ],
   "source": [
    "from sklearn.metrics import confusion_matrix\n",
    "cm  = confusion_matrix(ytest,ypred)\n",
    "cm"
   ]
  },
  {
   "cell_type": "code",
   "execution_count": 92,
   "id": "5b3db135",
   "metadata": {},
   "outputs": [
    {
     "data": {
      "text/plain": [
       "<AxesSubplot:>"
      ]
     },
     "execution_count": 92,
     "metadata": {},
     "output_type": "execute_result"
    },
    {
     "data": {
      "image/png": "[encoded data removed]",
      "text/plain": [
       "<Figure size 432x288 with 2 Axes>"
      ]
     },
     "metadata": {
      "needs_background": "light"
     },
     "output_type": "display_data"
    }
   ],
   "source": [
    "import seaborn as sns\n",
    "sns.heatmap(cm,annot = True)"
   ]
  },
  {
   "cell_type": "code",
   "execution_count": 93,
   "id": "08ddf7af",
   "metadata": {},
   "outputs": [
    {
     "data": {
      "text/plain": [
       "98.94179894179894"
      ]
     },
     "execution_count": 93,
     "metadata": {},
     "output_type": "execute_result"
    }
   ],
   "source": [
    "from sklearn.metrics import accuracy_score\n",
    "ac =  accuracy_score(ytest,ypred)\n",
    "ac*100"
   ]
  },
  {
   "cell_type": "code",
   "execution_count": 94,
   "id": "b670b6b2",
   "metadata": {},
   "outputs": [
    {
     "name": "stdout",
     "output_type": "stream",
     "text": [
      "1.0\n"
     ]
    }
   ],
   "source": [
    "from sklearn import metrics\n",
    "k_range = range(1,40)\n",
    "score = []\n",
    "# num = []\n",
    "for k in (k_range):\n",
    "    rfc = RandomForestClassifier(n_estimators = k, criterion = 'gini')\n",
    "    rfc.fit(xtrain,ytrain)\n",
    "    y_pred = knn.predict(xtest)\n",
    "    score.append(metrics.accuracy_score(y_pred,ytest))\n",
    "print(np.array(score).max())\n"
   ]
  },
  {
   "cell_type": "code",
   "execution_count": 95,
   "id": "ada245f4",
   "metadata": {},
   "outputs": [
    {
     "data": {
      "image/png": "[encoded data removed]",
      "text/plain": [
       "<Figure size 432x288 with 1 Axes>"
      ]
     },
     "metadata": {
      "needs_background": "light"
     },
     "output_type": "display_data"
    }
   ],
   "source": [
    "plt.plot(k_range,score)\n",
    "plt.xlabel('Value of k is RFC')\n",
    "plt.ylabel('Accuracy of test data')\n",
    "plt.show()"
   ]
  },
  {
   "cell_type": "code",
   "execution_count": null,
   "id": "54c39094",
   "metadata": {},
   "outputs": [],
   "source": []
  }
 ],
 "metadata": {
  "kernelspec": {
   "display_name": "Python 3 (ipykernel)",
   "language": "python",
   "name": "python3"
  },
  "language_info": {
   "codemirror_mode": {
    "name": "ipython",
    "version": 3
   },
   "file_extension": ".py",
   "mimetype": "text/x-python",
   "name": "python",
   "nbconvert_exporter": "python",
   "pygments_lexer": "ipython3",
   "version": "3.9.7"
  }
 },
 "nbformat": 4,
 "nbformat_minor": 5
}
